{
 "cells": [
  {
   "cell_type": "markdown",
   "id": "d910f42c-a156-4b10-aaab-d714f9b148aa",
   "metadata": {},
   "source": [
    "https://adventofcode.com/2024/day/6"
   ]
  },
  {
   "cell_type": "code",
   "execution_count": 76,
   "id": "991ee7b4-e3d7-4a0a-bf82-319f966406b8",
   "metadata": {},
   "outputs": [],
   "source": [
    "from helpers import *\n",
    "import re\n",
    "import copy"
   ]
  },
  {
   "cell_type": "code",
   "execution_count": 113,
   "id": "136f02a6-c2b4-418a-927d-10288f31637b",
   "metadata": {},
   "outputs": [],
   "source": [
    "lines = read_lines(\"input-06.txt\")"
   ]
  },
  {
   "cell_type": "markdown",
   "id": "e936436f-36e1-41f5-8825-013ea1f8ffa9",
   "metadata": {},
   "source": [
    "## Part 1"
   ]
  },
  {
   "cell_type": "markdown",
   "id": "80626220-0b49-47de-b782-3467d3774a84",
   "metadata": {},
   "source": [
    "First find the guard. This gives us the row and column of the guards position and the character representing them so we know the starting direction."
   ]
  },
  {
   "cell_type": "code",
   "execution_count": 114,
   "id": "60ce4d14-8ed4-4c43-84c8-6522d3220b59",
   "metadata": {},
   "outputs": [],
   "source": [
    "for row in range(0, len(lines)):\n",
    "    m = re.search(\"[<>v^]\", lines[row])\n",
    "    if m:\n",
    "        col = m.span()[0]\n",
    "        guard = m.group()\n",
    "        break\n",
    "pos = (row, col)\n",
    "\n",
    "if guard == \"^\":\n",
    "    dir = (-1, 0)\n",
    "elif guard == \"v\":\n",
    "    dir = (1, 0)\n",
    "elif guard == \">\":\n",
    "    dir = (0, 1)\n",
    "elif guard == \"<\":\n",
    "    dir = (-1, 0)\n",
    "else:\n",
    "    print(\"Don't recognise this guard!\")\n",
    "\n",
    "lab = []\n",
    "for l in lines:\n",
    "    lab.append([c for c in l])    \n",
    "lab[row][col] = 'X'"
   ]
  },
  {
   "cell_type": "markdown",
   "id": "f255929b-6e86-4c74-b150-75b395c2f3fe",
   "metadata": {},
   "source": [
    "Now to wander around the lab following the rules until we escape, counting steps as we go."
   ]
  },
  {
   "cell_type": "code",
   "execution_count": 115,
   "id": "4c00c869-a8b2-4e91-977c-84ca1e9ba095",
   "metadata": {},
   "outputs": [],
   "source": [
    "def escaped(p):\n",
    "    return p[0] < 0 or p[1] < 0 or p[0] >= len(lines) or p[1] >= len(lines)\n",
    "\n",
    "def patrol_route(start, dir, lab, limit):\n",
    "    count = 1\n",
    "    route = []\n",
    "    pos = start\n",
    "    next_pos = (pos[0] + dir[0], pos[1] + dir[1])\n",
    "    \n",
    "    while not escaped(next_pos):\n",
    "        next_square = lab[next_pos[0]][next_pos[1]]\n",
    "        #print(pos)\n",
    "        if next_square != \"#\":\n",
    "            pos = next_pos\n",
    "            next_pos = (pos[0] + dir[0], pos[1] + dir[1])\n",
    "            count += 1\n",
    "            if count > limit:\n",
    "                return []\n",
    "            if next_square == '.':\n",
    "                lab[pos[0]][pos[1]] = 'X'\n",
    "                route.append((pos[0], pos[1]))\n",
    "        else:\n",
    "            dir = (dir[1], dir[0]*-1) # Rotate right 90\n",
    "            next_pos = (pos[0] + dir[0], pos[1] + dir[1])\n",
    "    \n",
    "    return route\n"
   ]
  },
  {
   "cell_type": "code",
   "execution_count": 116,
   "id": "403e4e93-d189-4d80-87dc-1639fab1b512",
   "metadata": {},
   "outputs": [
    {
     "name": "stdout",
     "output_type": "stream",
     "text": [
      "5305\n"
     ]
    }
   ],
   "source": [
    "route = patrol_route(pos, dir, copy.deepcopy(lab), 10000)\n",
    "\n",
    "print(len(route)+1)"
   ]
  },
  {
   "cell_type": "markdown",
   "id": "9904f2ae-2c60-4364-8631-82d1791ae239",
   "metadata": {},
   "source": [
    "## Part two\n",
    "\n",
    "Now to look for places for obstacles that would create a loop.\n",
    "\n",
    "Not sure how to go about this, other than brute force. I guess there's only a point in trying places on the unobstructed route previously found - the guard is not going to visit any other places. So, I'll modify the above code to keep a list of those places and then here we can just try them all.\n",
    "\n",
    "The next problem is how to detect a loop. For now, just counting steps and assuming a loop if we hit a limit. Most loops will be much shorter than that, I assume, and so something more intelligent might well be faster. Running on my Pi 4 with this simple loop detection, the whole process takes about 3 minutes. Long enough to be annoying but maybe not long enough to bother trying to optimise it! Perhaps if I find some enthusiasm somewhere..."
   ]
  },
  {
   "cell_type": "markdown",
   "id": "3c693df6-55ef-43fc-9047-57915b525369",
   "metadata": {},
   "source": [
    "Anyway, first reset everything."
   ]
  },
  {
   "cell_type": "code",
   "execution_count": 117,
   "id": "1a13f6b9-d1b8-4210-9b40-3553a7ba57d1",
   "metadata": {},
   "outputs": [],
   "source": [
    "for row in range(0, len(lines)):\n",
    "    m = re.search(\"[<>v^]\", lines[row])\n",
    "    if m:\n",
    "        col = m.span()[0]\n",
    "        guard = m.group()\n",
    "        break\n",
    "pos = (row, col)\n",
    "\n",
    "if guard == \"^\":\n",
    "    dir = (-1, 0)\n",
    "elif guard == \"v\":\n",
    "    dir = (1, 0)\n",
    "elif guard == \">\":\n",
    "    dir = (0, 1)\n",
    "elif guard == \"<\":\n",
    "    dir = (-1, 0)\n",
    "else:\n",
    "    print(\"Don't recognise this guard!\")\n",
    "\n",
    "lab = []\n",
    "for l in lines:\n",
    "    lab.append([c for c in l])    \n",
    "lab[row][col] = 'X'"
   ]
  },
  {
   "cell_type": "code",
   "execution_count": 126,
   "id": "05f7d561-bc82-49fe-8cc9-b93c30dcbaa3",
   "metadata": {},
   "outputs": [
    {
     "name": "stdout",
     "output_type": "stream",
     "text": [
      "2143\n",
      "CPU times: user 3min 6s, sys: 483 ms, total: 3min 7s\n",
      "Wall time: 3min 8s\n"
     ]
    }
   ],
   "source": [
    "%%time\n",
    "\n",
    "loop_count = 0\n",
    "\n",
    "for p in route:\n",
    "    #print(\"Checking:\", p)\n",
    "    lab2 = copy.deepcopy(lab)\n",
    "    lab2[p[0]][p[1]] = \"#\"\n",
    "    new_route = patrol_route(pos, dir, lab2, 10000)\n",
    "    if len(new_route) == 0:\n",
    "        loop_count += 1\n",
    "\n",
    "print(loop_count)"
   ]
  }
 ],
 "metadata": {
  "kernelspec": {
   "display_name": "Python 3 (ipykernel)",
   "language": "python",
   "name": "python3"
  },
  "language_info": {
   "codemirror_mode": {
    "name": "ipython",
    "version": 3
   },
   "file_extension": ".py",
   "mimetype": "text/x-python",
   "name": "python",
   "nbconvert_exporter": "python",
   "pygments_lexer": "ipython3",
   "version": "3.10.12"
  }
 },
 "nbformat": 4,
 "nbformat_minor": 5
}
