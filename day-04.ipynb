{
 "cells": [
  {
   "cell_type": "markdown",
   "id": "aaa3507b-c59f-4ed5-8d8d-ac342a43b265",
   "metadata": {},
   "source": [
    "https://adventofcode.com/2024/day/4\n",
    "\n",
    "This one is all a bit brute force and ignorance. Nothing fancy to see here..."
   ]
  },
  {
   "cell_type": "code",
   "execution_count": 1,
   "id": "8e5f3cc5-51ce-46cc-8884-035698aa05e3",
   "metadata": {},
   "outputs": [],
   "source": [
    "from helpers import *"
   ]
  },
  {
   "cell_type": "code",
   "execution_count": null,
   "id": "d9772775-c335-4ebe-87cd-ffa4d9e47963",
   "metadata": {},
   "outputs": [],
   "source": [
    "lines = read_lines(\"input-04.txt\")\n",
    "\n",
    "rows = len(lines)\n",
    "cols = len(lines[0])\n",
    "\n",
    "xmas_directions = [[1, -1], [1, 0], [1, 1], [0, -1], [0, 1], [-1, -1], [-1, 0], [-1, 1]]"
   ]
  },
  {
   "cell_type": "code",
   "execution_count": 4,
   "id": "5d2eb288-dcaf-4982-8242-0d5cd2c258a0",
   "metadata": {},
   "outputs": [
    {
     "name": "stdout",
     "output_type": "stream",
     "text": [
      "2427\n"
     ]
    }
   ],
   "source": [
    "count = 0\n",
    "for i in range(0, cols):\n",
    "    for j in range(0, rows):\n",
    "        if lines[i][j] == \"X\":\n",
    "            for d in xmas_directions:\n",
    "                if i+3*d[0] >= 0 and i+3*d[0] < cols and j+3*d[1] >= 0 and j+3*d[1] < rows:\n",
    "                    if lines[i+d[0]][j+d[1]] == \"M\" and lines[i+2*d[0]][j+2*d[1]] == \"A\" and lines[i+3*d[0]][j+3*d[1]] == \"S\":\n",
    "                        count += 1\n",
    "\n",
    "\n",
    "print(count)"
   ]
  },
  {
   "cell_type": "code",
   "execution_count": 5,
   "id": "022a297f-f154-4e28-91cf-759ff94cebd0",
   "metadata": {},
   "outputs": [
    {
     "name": "stdout",
     "output_type": "stream",
     "text": [
      "1900\n"
     ]
    }
   ],
   "source": [
    "count = 0\n",
    "for i in range(1, cols-1):\n",
    "    for j in range(1, rows-1):\n",
    "        if lines[i][j] == \"A\":\n",
    "            if ((lines[i-1][j-1] == \"M\" and lines[i+1][j+1] == \"S\") or \\\n",
    "                (lines[i-1][j-1] == \"S\" and lines[i+1][j+1] == \"M\")) and \\\n",
    "               ((lines[i-1][j+1] == \"M\" and lines[i+1][j-1] == \"S\") or \\\n",
    "                (lines[i-1][j+1] == \"S\" and lines[i+1][j-1] == \"M\")):\n",
    "                count += 1\n",
    "\n",
    "\n",
    "print(count)"
   ]
  }
 ],
 "metadata": {
  "kernelspec": {
   "display_name": "Python 3 (ipykernel)",
   "language": "python",
   "name": "python3"
  },
  "language_info": {
   "codemirror_mode": {
    "name": "ipython",
    "version": 3
   },
   "file_extension": ".py",
   "mimetype": "text/x-python",
   "name": "python",
   "nbconvert_exporter": "python",
   "pygments_lexer": "ipython3",
   "version": "3.10.12"
  }
 },
 "nbformat": 4,
 "nbformat_minor": 5
}
