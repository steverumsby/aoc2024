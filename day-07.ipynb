{
 "cells": [
  {
   "cell_type": "markdown",
   "id": "a12223b9-48a2-49ae-a659-5d6a63c8aa89",
   "metadata": {},
   "source": [
    "https://adventofcode.com/2024/day/7"
   ]
  },
  {
   "cell_type": "code",
   "execution_count": 1,
   "id": "7c90cb08-6993-42e6-8609-430ccfbab085",
   "metadata": {},
   "outputs": [],
   "source": [
    "from helpers import *"
   ]
  },
  {
   "cell_type": "code",
   "execution_count": 29,
   "id": "3db2d2dd-d963-47f2-9c0e-577c1120c023",
   "metadata": {},
   "outputs": [],
   "source": [
    "lines = read_lines(\"files/input-07.txt\")"
   ]
  },
  {
   "cell_type": "code",
   "execution_count": 21,
   "id": "c478c500-f84b-4028-af92-4c111d2bf4ee",
   "metadata": {},
   "outputs": [],
   "source": [
    "def totals(n):\n",
    "    if len(n) == 1:\n",
    "        return n\n",
    "    elif len(n) == 2:\n",
    "        return [n[0] + n[1], n[0]*n[1]]\n",
    "    else:\n",
    "        l = []\n",
    "        for t in totals(n[:-1]):\n",
    "            l.append(n[-1]+t)\n",
    "            l.append(n[-1]*t)\n",
    "        return l"
   ]
  },
  {
   "cell_type": "code",
   "execution_count": 30,
   "id": "931d5308-18de-40fc-a36e-a1b3d260ac74",
   "metadata": {},
   "outputs": [
    {
     "name": "stdout",
     "output_type": "stream",
     "text": [
      "1611660863222\n"
     ]
    }
   ],
   "source": [
    "total = 0\n",
    "for i in lines:\n",
    "    nums = [int(n) for n in i.replace(\":\", \"\").split()]\n",
    "    target = nums[0]\n",
    "    nums = nums[1:]\n",
    "    if target in totals(nums):\n",
    "        total += target\n",
    "        #print(target)\n",
    "    #print(nums)\n",
    "\n",
    "print(total)"
   ]
  },
  {
   "cell_type": "code",
   "execution_count": 32,
   "id": "ea48b15f-8892-4700-9b5b-78c91245cf4f",
   "metadata": {},
   "outputs": [
    {
     "data": {
      "text/plain": [
       "23"
      ]
     },
     "execution_count": 32,
     "metadata": {},
     "output_type": "execute_result"
    }
   ],
   "source": [
    "int(str(2)+str(3))"
   ]
  }
 ],
 "metadata": {
  "kernelspec": {
   "display_name": "Python 3 (ipykernel)",
   "language": "python",
   "name": "python3"
  },
  "language_info": {
   "codemirror_mode": {
    "name": "ipython",
    "version": 3
   },
   "file_extension": ".py",
   "mimetype": "text/x-python",
   "name": "python",
   "nbconvert_exporter": "python",
   "pygments_lexer": "ipython3",
   "version": "3.10.12"
  }
 },
 "nbformat": 4,
 "nbformat_minor": 5
}
