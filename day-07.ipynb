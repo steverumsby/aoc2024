{
 "cells": [
  {
   "cell_type": "markdown",
   "id": "a12223b9-48a2-49ae-a659-5d6a63c8aa89",
   "metadata": {},
   "source": [
    "https://adventofcode.com/2024/day/7"
   ]
  },
  {
   "cell_type": "code",
   "execution_count": 1,
   "id": "7c90cb08-6993-42e6-8609-430ccfbab085",
   "metadata": {},
   "outputs": [],
   "source": [
    "from helpers import *"
   ]
  }
 ],
 "metadata": {
  "kernelspec": {
   "display_name": "Python 3 (ipykernel)",
   "language": "python",
   "name": "python3"
  },
  "language_info": {
   "codemirror_mode": {
    "name": "ipython",
    "version": 3
   },
   "file_extension": ".py",
   "mimetype": "text/x-python",
   "name": "python",
   "nbconvert_exporter": "python",
   "pygments_lexer": "ipython3",
   "version": "3.10.12"
  }
 },
 "nbformat": 4,
 "nbformat_minor": 5
}
