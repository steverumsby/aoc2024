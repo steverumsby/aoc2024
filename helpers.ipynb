{
 "cells": [
  {
   "cell_type": "markdown",
   "id": "db756a48-5003-47c8-be58-71fc6e09c69c",
   "metadata": {},
   "source": [
    "# Helpers\n",
    "\n",
    "Just some helper functions for the advent of code puzzles."
   ]
  },
  {
   "cell_type": "markdown",
   "id": "3693ba03-10fe-46cf-a932-9b0203fd792c",
   "metadata": {},
   "source": [
    "## File input\n",
    "\n",
    "Starting with functions for reading files, and returning the file content either as one big string or a list of separate lines."
   ]
  },
  {
   "cell_type": "code",
   "execution_count": 2,
   "id": "d7a32e22-663c-45de-9a72-e1dbe1253080",
   "metadata": {},
   "outputs": [],
   "source": [
    "def read_file(f):\n",
    "    f = open(f)\n",
    "    l = f.read()\n",
    "    f.close()\n",
    "    return l\n",
    "\n",
    "def read_lines(f):\n",
    "    f = open(f)\n",
    "    l = f.read()\n",
    "    f.close()\n",
    "    return l.split('\\n')\n"
   ]
  }
 ],
 "metadata": {
  "kernelspec": {
   "display_name": "Python 3 (ipykernel)",
   "language": "python",
   "name": "python3"
  },
  "language_info": {
   "codemirror_mode": {
    "name": "ipython",
    "version": 3
   },
   "file_extension": ".py",
   "mimetype": "text/x-python",
   "name": "python",
   "nbconvert_exporter": "python",
   "pygments_lexer": "ipython3",
   "version": "3.10.12"
  }
 },
 "nbformat": 4,
 "nbformat_minor": 5
}
