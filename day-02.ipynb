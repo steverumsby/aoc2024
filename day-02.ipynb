{
 "cells": [
  {
   "cell_type": "markdown",
   "id": "5ac422e3-ae5e-43bb-b5f6-36f5cc384f96",
   "metadata": {},
   "source": [
    "https://adventofcode.com/2024/day/2"
   ]
  },
  {
   "cell_type": "code",
   "execution_count": 1,
   "id": "3d893390-ca98-4578-a667-e1b5e42d791d",
   "metadata": {},
   "outputs": [],
   "source": [
    "from helpers import *"
   ]
  },
  {
   "cell_type": "markdown",
   "id": "e24e61c3-f4b6-46a8-9f8d-4cf47dda3416",
   "metadata": {},
   "source": [
    "## Helper functions"
   ]
  },
  {
   "cell_type": "markdown",
   "id": "ec9f1738-4042-465e-adda-079c9d07f98a",
   "metadata": {},
   "source": [
    "Is $y$ less than, greater than or equal to $x$? Return -1, 1 or 0"
   ]
  },
  {
   "cell_type": "code",
   "execution_count": 3,
   "id": "58e1d656-62c3-44f5-a4c0-1113f25e3ea8",
   "metadata": {},
   "outputs": [],
   "source": [
    "def dir(x, y):\n",
    "    return 1 if y > x else -1 if x > y else 0"
   ]
  },
  {
   "cell_type": "markdown",
   "id": "4f3485c2-c69b-44a0-9c1d-7b33be0d7af4",
   "metadata": {},
   "source": [
    "A reading is safe if all of the levels are incresing or all decreasing, and if the difference between sucessive levels is at least one and at most 3."
   ]
  },
  {
   "cell_type": "code",
   "execution_count": 4,
   "id": "a087338a-8882-4cfa-b337-3c3ca8335e98",
   "metadata": {},
   "outputs": [],
   "source": [
    "def issafe(nums):\n",
    "    direction = dir(nums[0], nums[1])\n",
    "    for j in range(0, len(nums)):\n",
    "        if j == len(nums)-1:\n",
    "            break\n",
    "        diff = abs(nums[j] - nums[j+1]) \n",
    "        if diff < 1 or diff > 3 or dir(nums[j], nums[j+1]) != direction:\n",
    "            break\n",
    "            \n",
    "    return j == len(nums)-1"
   ]
  },
  {
   "cell_type": "markdown",
   "id": "44556cbc-53c3-4e4d-bda2-15a970f85458",
   "metadata": {},
   "source": [
    "## Part 1 - count the safe readings\n",
    "\n",
    "Given the above, this is easy - just loop through all the readings and count the safe ones."
   ]
  },
  {
   "cell_type": "code",
   "execution_count": 5,
   "id": "7abdbad6-0136-4474-9b33-fbb7f4447980",
   "metadata": {},
   "outputs": [
    {
     "name": "stdout",
     "output_type": "stream",
     "text": [
      "680\n"
     ]
    }
   ],
   "source": [
    "lines = read_lines(\"input-02.txt\")\n",
    "\n",
    "safecount = 0\n",
    "for i in lines:\n",
    "    nums = [int(n) for n in i.split()]\n",
    "    if len(nums) == 0:\n",
    "        break\n",
    "        \n",
    "    if issafe(nums):\n",
    "        safecount += 1\n",
    "        \n",
    "print(safecount)"
   ]
  },
  {
   "cell_type": "markdown",
   "id": "327f1abc-0896-4805-aa88-1c9a8243ceb2",
   "metadata": {},
   "source": [
    "## Part 2 - A \"dampener\" can make some unsafe readings safe. Recount with dampener in place\n",
    "\n",
    "After spending a whole lot of time on part two, with incresingly complicated solutions all of which produced the wrong answer, I took a quick look at redit and a hint there (didn't look an any actual code, honest) made me realise the solution was really easy.\n",
    "\n",
    "Basically, if the reading is safe already, then it is still safe. If not, try removing each level in turn and retest. If that is safe then the whole reading is safe. Easy. Eventually."
   ]
  },
  {
   "cell_type": "code",
   "execution_count": 6,
   "id": "37585f44-9272-47b5-85b6-1c958bb11699",
   "metadata": {},
   "outputs": [
    {
     "name": "stdout",
     "output_type": "stream",
     "text": [
      "710\n"
     ]
    }
   ],
   "source": [
    "lines = read_lines(\"input-02.txt\")\n",
    "\n",
    "j = 1\n",
    "safecount = 0\n",
    "for i in lines:\n",
    "    nums = [int(n) for n in i.split()]\n",
    "    if len(nums) == 0:\n",
    "        break\n",
    "\n",
    "    if issafe(nums):\n",
    "        safecount += 1\n",
    "    else:\n",
    "        for j in range(0, len(nums)):\n",
    "            nums2 = nums.copy()\n",
    "            nums2.pop(j)\n",
    "            if issafe(nums2):\n",
    "                safecount += 1\n",
    "                break\n",
    "    \n",
    "print(safecount)"
   ]
  }
 ],
 "metadata": {
  "kernelspec": {
   "display_name": "Python 3 (ipykernel)",
   "language": "python",
   "name": "python3"
  },
  "language_info": {
   "codemirror_mode": {
    "name": "ipython",
    "version": 3
   },
   "file_extension": ".py",
   "mimetype": "text/x-python",
   "name": "python",
   "nbconvert_exporter": "python",
   "pygments_lexer": "ipython3",
   "version": "3.10.12"
  }
 },
 "nbformat": 4,
 "nbformat_minor": 5
}
