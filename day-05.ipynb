{
 "cells": [
  {
   "cell_type": "markdown",
   "id": "5f5f91fd-ed31-4b1a-a152-131f35dcb71c",
   "metadata": {},
   "source": [
    "https://adventofcode.com/2024/day/5"
   ]
  },
  {
   "cell_type": "code",
   "execution_count": 15,
   "id": "bdc77049-e43c-4479-98f4-d6f3dbb26177",
   "metadata": {},
   "outputs": [],
   "source": [
    "f = open(\"test-05.txt\")\n",
    "l = f.read()\n",
    "f.close()\n",
    "\n",
    "lines = l.split('\\n')\n",
    "\n",
    "rules = []\n",
    "updates = []\n",
    "before = {}\n",
    "after = {}\n",
    "\n",
    "reading_updates = False\n",
    "for l in lines:\n",
    "    if l == \"\":\n",
    "        reading_updates = True\n",
    "    elif reading_updates:\n",
    "        updates.append(l.split(','))\n",
    "    else:\n",
    "        rule = [int(r) for r in l.split('|')]\n",
    "        if rule[0] in before:\n",
    "            before[rule[0]].append(rule[1])\n",
    "        else:\n",
    "            before[rule[0]] = [ rule[1]]\n",
    "\n",
    "        if rule[1] in after:\n",
    "            after[rule[1]].append(rule[0])\n",
    "        else:\n",
    "            after[rule[1]] = [ rule[0]]\n",
    "        rules.append(rule)"
   ]
  },
  {
   "cell_type": "code",
   "execution_count": 16,
   "id": "03b13245-d065-4fe3-b507-57f01e137683",
   "metadata": {},
   "outputs": [
    {
     "data": {
      "text/plain": [
       "{47: [53, 13, 61, 29],\n",
       " 97: [13, 61, 47, 29, 53, 75],\n",
       " 75: [29, 53, 47, 61, 13],\n",
       " 61: [13, 53, 29],\n",
       " 29: [13],\n",
       " 53: [29, 13]}"
      ]
     },
     "execution_count": 16,
     "metadata": {},
     "output_type": "execute_result"
    }
   ],
   "source": [
    "before"
   ]
  },
  {
   "cell_type": "code",
   "execution_count": 17,
   "id": "c850cf17-108a-4670-bfa8-79f8c094fa8c",
   "metadata": {},
   "outputs": [
    {
     "data": {
      "text/plain": [
       "{53: [47, 75, 61, 97],\n",
       " 13: [97, 61, 29, 47, 75, 53],\n",
       " 61: [97, 47, 75],\n",
       " 47: [97, 75],\n",
       " 29: [75, 97, 53, 61, 47],\n",
       " 75: [97]}"
      ]
     },
     "execution_count": 17,
     "metadata": {},
     "output_type": "execute_result"
    }
   ],
   "source": [
    "after"
   ]
  }
 ],
 "metadata": {
  "kernelspec": {
   "display_name": "Python 3 (ipykernel)",
   "language": "python",
   "name": "python3"
  },
  "language_info": {
   "codemirror_mode": {
    "name": "ipython",
    "version": 3
   },
   "file_extension": ".py",
   "mimetype": "text/x-python",
   "name": "python",
   "nbconvert_exporter": "python",
   "pygments_lexer": "ipython3",
   "version": "3.10.12"
  }
 },
 "nbformat": 4,
 "nbformat_minor": 5
}
