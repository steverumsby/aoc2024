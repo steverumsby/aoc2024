{
 "cells": [
  {
   "cell_type": "markdown",
   "id": "5f5f91fd-ed31-4b1a-a152-131f35dcb71c",
   "metadata": {},
   "source": [
    "https://adventofcode.com/2024/day/5"
   ]
  },
  {
   "cell_type": "code",
   "execution_count": 84,
   "id": "bdc77049-e43c-4479-98f4-d6f3dbb26177",
   "metadata": {},
   "outputs": [],
   "source": [
    "f = open(\"input-05.txt\")\n",
    "l = f.read()\n",
    "f.close()\n",
    "\n",
    "lines = l.split('\\n')\n",
    "\n",
    "rules = []\n",
    "updates = []\n",
    "before = {}\n",
    "after = {}\n",
    "\n",
    "reading_updates = False\n",
    "for l in lines:\n",
    "    if l == \"\":\n",
    "        reading_updates = True\n",
    "    elif reading_updates:\n",
    "        updates.append([int(u) for u in l.split(',')])\n",
    "    else:\n",
    "        rule = [int(r) for r in l.split('|')]\n",
    "        if rule[0] in after:\n",
    "            after[rule[0]].append(rule[1])\n",
    "        else:\n",
    "            after[rule[0]] = [ rule[1]]\n",
    "\n",
    "        if rule[1] in before:\n",
    "            before[rule[1]].append(rule[0])\n",
    "        else:\n",
    "            before[rule[1]] = [ rule[0]]\n",
    "        rules.append(rule)"
   ]
  },
  {
   "cell_type": "code",
   "execution_count": 75,
   "id": "6703fae4-8dcc-4582-83a3-4a3317784bae",
   "metadata": {},
   "outputs": [],
   "source": [
    "def check_order(u):\n",
    "    for p in range(0, len(u)):\n",
    "        # If we're not at the start, check everything before current page is supposed to be before\n",
    "        if p != 0:\n",
    "            for i in u[:p]:\n",
    "                if not(i in after and u[p] in after[i] and i in before[u[p]]):\n",
    "                       return False\n",
    "\n",
    "        # If we not at the end, check everything after current pages is supposed to be after\n",
    "        if p != len(u)-1:\n",
    "            for i in u[p+1:]:\n",
    "                if not(i in before and u[p] in before[i] and i in after[u[p]]):\n",
    "                        return False\n",
    "    return True"
   ]
  },
  {
   "cell_type": "code",
   "execution_count": 87,
   "id": "07ecf246-4acc-4b71-86ad-19840b721221",
   "metadata": {},
   "outputs": [],
   "source": [
    "def reorder(u):\n",
    "    return u"
   ]
  },
  {
   "cell_type": "code",
   "execution_count": 88,
   "id": "08b5800b-a458-4606-9054-0f8b1838b837",
   "metadata": {},
   "outputs": [
    {
     "name": "stdout",
     "output_type": "stream",
     "text": [
      "5732 4902\n"
     ]
    }
   ],
   "source": [
    "correct_sum = 0\n",
    "incorrect_sum = 0\n",
    "for u in updates:\n",
    "    if check_order(u):\n",
    "        correct_sum += u[len(u)//2] # Add up the middle elements\n",
    "    else:\n",
    "        u = reorder(u)\n",
    "        incorrect_sum += u[len(u)//2]\n",
    "\n",
    "print(correct_sum, incorrect_sum)"
   ]
  }
 ],
 "metadata": {
  "kernelspec": {
   "display_name": "Python 3 (ipykernel)",
   "language": "python",
   "name": "python3"
  },
  "language_info": {
   "codemirror_mode": {
    "name": "ipython",
    "version": 3
   },
   "file_extension": ".py",
   "mimetype": "text/x-python",
   "name": "python",
   "nbconvert_exporter": "python",
   "pygments_lexer": "ipython3",
   "version": "3.10.12"
  }
 },
 "nbformat": 4,
 "nbformat_minor": 5
}
