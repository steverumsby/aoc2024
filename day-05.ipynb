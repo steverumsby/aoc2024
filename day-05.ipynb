{
 "cells": [
  {
   "cell_type": "markdown",
   "id": "5f5f91fd-ed31-4b1a-a152-131f35dcb71c",
   "metadata": {},
   "source": [
    "https://adventofcode.com/2024/day/5"
   ]
  },
  {
   "cell_type": "code",
   "execution_count": 1,
   "id": "bdc77049-e43c-4479-98f4-d6f3dbb26177",
   "metadata": {},
   "outputs": [],
   "source": [
    "f = open(\"test-05.txt\")\n",
    "l = f.read()\n",
    "f.close()\n",
    "\n",
    "lines = l.split('\\n')"
   ]
  }
 ],
 "metadata": {
  "kernelspec": {
   "display_name": "Python 3 (ipykernel)",
   "language": "python",
   "name": "python3"
  },
  "language_info": {
   "codemirror_mode": {
    "name": "ipython",
    "version": 3
   },
   "file_extension": ".py",
   "mimetype": "text/x-python",
   "name": "python",
   "nbconvert_exporter": "python",
   "pygments_lexer": "ipython3",
   "version": "3.10.12"
  }
 },
 "nbformat": 4,
 "nbformat_minor": 5
}
