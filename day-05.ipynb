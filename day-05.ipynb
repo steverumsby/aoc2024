{
 "cells": [
  {
   "cell_type": "markdown",
   "id": "5f5f91fd-ed31-4b1a-a152-131f35dcb71c",
   "metadata": {},
   "source": [
    "https://adventofcode.com/2024/day/5"
   ]
  },
  {
   "cell_type": "code",
   "execution_count": 112,
   "id": "5b26087e-b181-444e-bb2a-cade2aacc4c6",
   "metadata": {},
   "outputs": [],
   "source": [
    "from helpers import *"
   ]
  },
  {
   "cell_type": "markdown",
   "id": "fcae99bb-7435-4230-a29b-edf40625ec8a",
   "metadata": {},
   "source": [
    "## Parsing the file\n",
    "\n",
    "The rules and updates are separated by a blank line, so just use a flag to determine which we are reading.\n",
    "\n",
    "Each rule is a (before, after) pair. I create two dictionaries for each page number, one listing all the pages that must come before and one listing all the pages that must come after. Not sure I need both but it is easy enough to do so why not. Also later, not sure I need to test both but I have them so why not?\n",
    "\n",
    "The updates are just a list of lists of pages numbers"
   ]
  },
  {
   "cell_type": "code",
   "execution_count": 113,
   "id": "aca91aac-da0c-4d7f-a1ad-cc155f00481e",
   "metadata": {},
   "outputs": [],
   "source": [
    "lines = read_lines(\"input-05.txt\")\n",
    "\n",
    "updates = []\n",
    "before = {}\n",
    "after = {}\n",
    "\n",
    "reading_updates = False\n",
    "for l in lines:\n",
    "    if l == \"\":\n",
    "        reading_updates = True\n",
    "    elif reading_updates:\n",
    "        updates.append([int(u) for u in l.split(',')])\n",
    "    else:\n",
    "        rule = [int(r) for r in l.split('|')]\n",
    "        if rule[0] in after:\n",
    "            after[rule[0]].append(rule[1])\n",
    "        else:\n",
    "            after[rule[0]] = [ rule[1]]\n",
    "\n",
    "        if rule[1] in before:\n",
    "            before[rule[1]].append(rule[0])\n",
    "        else:\n",
    "            before[rule[1]] = [ rule[0]]"
   ]
  },
  {
   "cell_type": "markdown",
   "id": "4b22f753-bcf3-43ce-958b-94c246fab275",
   "metadata": {},
   "source": [
    "## Check the order\n",
    "\n",
    "Cycle through the pages in the given update and check that the pages before it are allowed to be and the pages after it are allowed to be, being careful for the first and last pages."
   ]
  },
  {
   "cell_type": "code",
   "execution_count": 114,
   "id": "6703fae4-8dcc-4582-83a3-4a3317784bae",
   "metadata": {},
   "outputs": [],
   "source": [
    "# I don't think I need to check both the before and after rules here - they should amount to the same thing\n",
    "# But it isn't hard to so might as well leave it in.\n",
    "def check_order(u):\n",
    "    for p in range(0, len(u)):\n",
    "        # If we're not at the start, check everything before current page is supposed to be before\n",
    "        if p != 0:\n",
    "            for i in u[:p]:\n",
    "                if not(i in after and u[p] in after[i] and i in before[u[p]]):\n",
    "                       return False\n",
    "\n",
    "        # If we not at the end, check everything after current pages is supposed to be after\n",
    "        if p != len(u)-1:\n",
    "            for i in u[p+1:]:\n",
    "                if not(i in before and u[p] in before[i] and i in after[u[p]]):\n",
    "                        return False\n",
    "    return True"
   ]
  },
  {
   "cell_type": "markdown",
   "id": "927c2828-01c3-44b9-a0f7-8d7d602f182f",
   "metadata": {},
   "source": [
    "## Reorder the pages in an update\n",
    "\n",
    "Return a list of pages in the correct order axccording to the rules.\n",
    "\n",
    "This is easy enough. Create a comparison function and use the standard list sort function to reoreder the list."
   ]
  },
  {
   "cell_type": "code",
   "execution_count": 115,
   "id": "07ecf246-4acc-4b71-86ad-19840b721221",
   "metadata": {},
   "outputs": [],
   "source": [
    "def page_sort(p1, p2):\n",
    "    if p2 in before and p1 in before[p2]:\n",
    "        return -1\n",
    "    if p2 in after and p1 in after[p2]:\n",
    "        return 1\n",
    "    return 0\n",
    "\n",
    "import functools\n",
    "\n",
    "def reorder(u):\n",
    "    u.sort(key = functools.cmp_to_key(page_sort))\n",
    "    return u"
   ]
  },
  {
   "cell_type": "markdown",
   "id": "382c79cc-40b0-4c47-92a8-4772279c9901",
   "metadata": {},
   "source": [
    "## Check everything\n",
    "\n",
    "Here the part one and part two processes can be done together since they operate on disjoint parts of the input data."
   ]
  },
  {
   "cell_type": "code",
   "execution_count": 116,
   "id": "08b5800b-a458-4606-9054-0f8b1838b837",
   "metadata": {},
   "outputs": [
    {
     "name": "stdout",
     "output_type": "stream",
     "text": [
      "5732 4716\n"
     ]
    }
   ],
   "source": [
    "correct_sum = 0\n",
    "incorrect_sum = 0\n",
    "for u in updates:\n",
    "    if check_order(u):\n",
    "        correct_sum += u[len(u)//2] # Add up the middle elements\n",
    "    else:\n",
    "        u = reorder(u)\n",
    "        incorrect_sum += u[len(u)//2]\n",
    "\n",
    "print(correct_sum, incorrect_sum)"
   ]
  }
 ],
 "metadata": {
  "kernelspec": {
   "display_name": "Python 3 (ipykernel)",
   "language": "python",
   "name": "python3"
  },
  "language_info": {
   "codemirror_mode": {
    "name": "ipython",
    "version": 3
   },
   "file_extension": ".py",
   "mimetype": "text/x-python",
   "name": "python",
   "nbconvert_exporter": "python",
   "pygments_lexer": "ipython3",
   "version": "3.10.12"
  }
 },
 "nbformat": 4,
 "nbformat_minor": 5
}
