{
 "cells": [
  {
   "cell_type": "markdown",
   "id": "0b81ccc7-ce1e-4c73-9bb0-29425cf667ed",
   "metadata": {},
   "source": [
    "https://adventofcode.com/2024/day/1"
   ]
  },
  {
   "cell_type": "code",
   "execution_count": 25,
   "id": "fb139501-4723-4f07-b44e-ce8a6c6be7b0",
   "metadata": {},
   "outputs": [
    {
     "name": "stdout",
     "output_type": "stream",
     "text": [
      "2196996\n"
     ]
    }
   ],
   "source": [
    "f = open(\"input-01.txt\")\n",
    "l = f.read()\n",
    "f.close()\n",
    "\n",
    "lines = l.split('\\n')\n",
    "l1 = []\n",
    "l2 = []\n",
    "\n",
    "for i in lines:\n",
    "    nums = i.split()\n",
    "    l1.append(int(nums[0]))\n",
    "    l2.append(int(nums[1]))\n",
    "\n",
    "l1.sort()\n",
    "l2.sort()\n",
    "\n",
    "sum = 0\n",
    "for i in range(0, len(l1)):\n",
    "    sum +=  abs(l1[i] - l2[i])\n",
    "\n",
    "print(sum)"
   ]
  },
  {
   "cell_type": "code",
   "execution_count": 24,
   "id": "82be8a5e-9617-416c-8b62-b523e9e9a58e",
   "metadata": {},
   "outputs": [
    {
     "name": "stdout",
     "output_type": "stream",
     "text": [
      "23655822\n"
     ]
    }
   ],
   "source": [
    "similarity = 0\n",
    "for i in l1:\n",
    "    similarity += i*l2.count(i)\n",
    "\n",
    "print(similarity)"
   ]
  }
 ],
 "metadata": {
  "kernelspec": {
   "display_name": "Python 3 (ipykernel)",
   "language": "python",
   "name": "python3"
  },
  "language_info": {
   "codemirror_mode": {
    "name": "ipython",
    "version": 3
   },
   "file_extension": ".py",
   "mimetype": "text/x-python",
   "name": "python",
   "nbconvert_exporter": "python",
   "pygments_lexer": "ipython3",
   "version": "3.10.12"
  }
 },
 "nbformat": 4,
 "nbformat_minor": 5
}
