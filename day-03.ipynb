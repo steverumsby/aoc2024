{
 "cells": [
  {
   "cell_type": "markdown",
   "id": "5af8372b-9760-40ad-9c03-6c5331dabe69",
   "metadata": {},
   "source": [
    "https://adventofcode.com/2024/day/3\n",
    "\n",
    "This is just simple regex hacking."
   ]
  },
  {
   "cell_type": "code",
   "execution_count": null,
   "id": "e4f1d1c6-bc95-4c4a-8540-fcab00df4505",
   "metadata": {},
   "outputs": [],
   "source": [
    "import re"
   ]
  },
  {
   "cell_type": "code",
   "execution_count": 45,
   "id": "f9d64263-f406-4e9c-bb5f-757edb054abf",
   "metadata": {},
   "outputs": [
    {
     "name": "stdout",
     "output_type": "stream",
     "text": [
      "170778545\n"
     ]
    }
   ],
   "source": [
    "f = open(\"input-03.txt\")\n",
    "l = f.read()\n",
    "f.close()\n",
    "\n",
    "sum = 0\n",
    "for i in re.findall(\"mul\\([0-9]*,[0-9]*\\)\", l):\n",
    "    nums = [int(n) for n in re.sub(\"(mul\\()|\\)\", \"\", i).split(\",\")]\n",
    "    sum += nums[0] * nums[1]\n",
    "\n",
    "print(sum)"
   ]
  },
  {
   "cell_type": "code",
   "execution_count": 46,
   "id": "5ef676ce-5ba1-4763-a517-ed8646ba6886",
   "metadata": {},
   "outputs": [
    {
     "name": "stdout",
     "output_type": "stream",
     "text": [
      "82868252\n"
     ]
    }
   ],
   "source": [
    "sum = 0\n",
    "enabled = True\n",
    "\n",
    "for i in re.findall(\"(mul\\([0-9]*,[0-9]*\\))|(do\\(\\))|(don\\'t\\(\\))\", l):\n",
    "    if i[0] != \"\":\n",
    "        if enabled:\n",
    "            nums = [int(n) for n in re.sub(\"(mul\\()|\\)\", \"\", i[0]).split(\",\")]\n",
    "            sum += nums[0] * nums[1]\n",
    "    elif i[1] != \"\":\n",
    "        enabled = True\n",
    "    elif i[2] != \"\":\n",
    "        enabled = False\n",
    "    else:\n",
    "        print(\"Don't understand instruction - \", i)\n",
    "\n",
    "print(sum)"
   ]
  }
 ],
 "metadata": {
  "kernelspec": {
   "display_name": "Python 3 (ipykernel)",
   "language": "python",
   "name": "python3"
  },
  "language_info": {
   "codemirror_mode": {
    "name": "ipython",
    "version": 3
   },
   "file_extension": ".py",
   "mimetype": "text/x-python",
   "name": "python",
   "nbconvert_exporter": "python",
   "pygments_lexer": "ipython3",
   "version": "3.10.12"
  }
 },
 "nbformat": 4,
 "nbformat_minor": 5
}
